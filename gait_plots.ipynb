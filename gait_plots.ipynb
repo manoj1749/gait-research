{
 "cells": [
  {
   "cell_type": "code",
   "execution_count": 1,
   "id": "ac6677e7",
   "metadata": {},
   "outputs": [
    {
     "name": "stdout",
     "output_type": "stream",
     "text": [
      "Plotting labeled_combined_dataset_test1.csv...\n",
      "Plotting labeled_combined_dataset_test10.csv...\n",
      "Plotting labeled_combined_dataset_test2.csv...\n",
      "Plotting labeled_combined_dataset_test3.csv...\n",
      "Plotting labeled_combined_dataset_test4.csv...\n",
      "Plotting labeled_combined_dataset_test5.csv...\n",
      "Plotting labeled_combined_dataset_test6.csv...\n",
      "Plotting labeled_combined_dataset_test7.csv...\n",
      "Plotting labeled_combined_dataset_test8.csv...\n",
      "Plotting labeled_combined_dataset_test9.csv...\n",
      "✅ All plots saved to: labelled/plots\n"
     ]
    }
   ],
   "source": [
    "import os\n",
    "import pandas as pd\n",
    "import matplotlib.pyplot as plt\n",
    "\n",
    "# Folder containing labeled datasets\n",
    "input_folder = \"labelled\"\n",
    "files = sorted([f for f in os.listdir(input_folder) if f.startswith(\"labeled_combined_dataset_test\") and f.endswith(\".csv\")])\n",
    "\n",
    "# Create an output folder for plots\n",
    "output_folder = os.path.join(input_folder, \"plots\")\n",
    "os.makedirs(output_folder, exist_ok=True)\n",
    "\n",
    "# Plotting loop\n",
    "for file in files:\n",
    "    print(f\"Plotting {file}...\")\n",
    "    df = pd.read_csv(os.path.join(input_folder, file))\n",
    "    time = df[\"Time\"] / 1000.0  # convert ms to sec\n",
    "\n",
    "    fig, axs = plt.subplots(2, 1, figsize=(14, 8), sharex=True)\n",
    "    \n",
    "    # --- Left Leg ---\n",
    "    axs[0].plot(time, df[\"Left_Ankle_Angle\"], label=\"Left Ankle Angle\", color=\"blue\")\n",
    "    axs[0].set_title(\"Left Leg Gait Events\")\n",
    "    axs[0].set_ylabel(\"Angle (rad)\")\n",
    "    \n",
    "    hs_l = df[df[\"Left_Gait_Phase\"] == \"Heel Strike\"]\n",
    "    to_l = df[df[\"Left_Gait_Phase\"] == \"Toe-Off\"]\n",
    "    axs[0].scatter(hs_l[\"Time\"] / 1000.0, hs_l[\"Left_Ankle_Angle\"], color=\"green\", label=\"Heel Strike\", marker=\"o\")\n",
    "    axs[0].scatter(to_l[\"Time\"] / 1000.0, to_l[\"Left_Ankle_Angle\"], color=\"red\", label=\"Toe-Off\", marker=\"x\")\n",
    "    axs[0].legend()\n",
    "\n",
    "    # --- Right Leg ---\n",
    "    axs[1].plot(time, df[\"Right_Ankle_Angle\"], label=\"Right Ankle Angle\", color=\"purple\")\n",
    "    axs[1].set_title(\"Right Leg Gait Events\")\n",
    "    axs[1].set_xlabel(\"Time (s)\")\n",
    "    axs[1].set_ylabel(\"Angle (rad)\")\n",
    "    \n",
    "    hs_r = df[df[\"Right_Gait_Phase\"] == \"Heel Strike\"]\n",
    "    to_r = df[df[\"Right_Gait_Phase\"] == \"Toe-Off\"]\n",
    "    axs[1].scatter(hs_r[\"Time\"] / 1000.0, hs_r[\"Right_Ankle_Angle\"], color=\"green\", label=\"Heel Strike\", marker=\"o\")\n",
    "    axs[1].scatter(to_r[\"Time\"] / 1000.0, to_r[\"Right_Ankle_Angle\"], color=\"red\", label=\"Toe-Off\", marker=\"x\")\n",
    "    axs[1].legend()\n",
    "\n",
    "    # Save plot\n",
    "    test_id = file.replace(\".csv\", \"\")\n",
    "    plt.tight_layout()\n",
    "    plt.savefig(os.path.join(output_folder, f\"{test_id}_gait_events.png\"))\n",
    "    plt.close()\n",
    "\n",
    "print(\"✅ All plots saved to:\", output_folder)\n"
   ]
  },
  {
   "cell_type": "code",
   "execution_count": null,
   "id": "3e0a3da1",
   "metadata": {},
   "outputs": [],
   "source": []
  }
 ],
 "metadata": {
  "kernelspec": {
   "display_name": "Python 3",
   "language": "python",
   "name": "python3"
  },
  "language_info": {
   "codemirror_mode": {
    "name": "ipython",
    "version": 3
   },
   "file_extension": ".py",
   "mimetype": "text/x-python",
   "name": "python",
   "nbconvert_exporter": "python",
   "pygments_lexer": "ipython3",
   "version": "3.13.2"
  }
 },
 "nbformat": 4,
 "nbformat_minor": 5
}
