{
 "cells": [
  {
   "cell_type": "code",
   "execution_count": 1,
   "metadata": {},
   "outputs": [],
   "source": [
    "import pandas as pd\n",
    "import os"
   ]
  },
  {
   "cell_type": "code",
   "execution_count": 2,
   "metadata": {},
   "outputs": [],
   "source": [
    "def clean_csv_files(directory_path, output_directory):\n",
    "    # Create the output directory if it doesn't exist\n",
    "    os.makedirs(output_directory, exist_ok=True)\n",
    "\n",
    "    # Loop through all CSV files in the directory\n",
    "    for filename in os.listdir(directory_path):\n",
    "        if filename.endswith(\".csv\"):\n",
    "            file_path = os.path.join(directory_path, filename)\n",
    "\n",
    "            # Load the CSV file\n",
    "            df = pd.read_csv(file_path)\n",
    "\n",
    "            # Find the index of the first row with any missing value\n",
    "            first_missing_index = df[df.isnull().any(axis=1)].index.min()\n",
    "\n",
    "            if pd.notna(first_missing_index):\n",
    "                # Keep only the rows before the first missing value\n",
    "                df_cleaned = df.iloc[:first_missing_index]\n",
    "            else:\n",
    "                # If no missing values are found, retain the entire DataFrame\n",
    "                df_cleaned = df\n",
    "\n",
    "            # Save the cleaned DataFrame to the output directory\n",
    "            output_path = os.path.join(output_directory, filename)\n",
    "            df_cleaned.to_csv(output_path, index=False)\n",
    "\n",
    "            print(f\"Processed and saved: {filename}\")"
   ]
  },
  {
   "cell_type": "code",
   "execution_count": null,
   "metadata": {},
   "outputs": [],
   "source": [
    "\n",
    "# Example usage\n",
    "directory_path = \"Final_Dataset_Concatenated\"  # Replace with the directory of your CSV files\n",
    "output_directory = \"Final_Dataset_Cut\"  # Replace with the desired output directory\n",
    "\n",
    "clean_csv_files(directory_path, output_directory)"
   ]
  }
 ],
 "metadata": {
  "kernelspec": {
   "display_name": "base",
   "language": "python",
   "name": "python3"
  },
  "language_info": {
   "codemirror_mode": {
    "name": "ipython",
    "version": 3
   },
   "file_extension": ".py",
   "mimetype": "text/x-python",
   "name": "python",
   "nbconvert_exporter": "python",
   "pygments_lexer": "ipython3",
   "version": "3.9.13"
  }
 },
 "nbformat": 4,
 "nbformat_minor": 2
}
