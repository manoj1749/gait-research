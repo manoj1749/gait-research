{
 "cells": [
  {
   "cell_type": "code",
   "execution_count": 1,
   "metadata": {},
   "outputs": [],
   "source": [
    "import os\n",
    "import pandas as pd"
   ]
  },
  {
   "cell_type": "code",
   "execution_count": 2,
   "metadata": {},
   "outputs": [],
   "source": [
    "# Directory where your cycle data is stored\n",
    "root_dir = './'\n",
    "# Define the column names to be added to each file\n",
    "column_names = ['Time (s)', 'X (m/s^2)', 'Y (m/s^2)', 'Z (m/s^2)', 'Theta']"
   ]
  },
  {
   "cell_type": "code",
   "execution_count": 3,
   "metadata": {},
   "outputs": [
    {
     "name": "stdout",
     "output_type": "stream",
     "text": [
      "Updated file: ./cycle-1/Left Stance/LK.csv\n",
      "Updated file: ./cycle-1/Left Stance/LH.csv\n",
      "Updated file: ./cycle-1/Left Stance/LA.csv\n",
      "Updated file: ./cycle-1/Right Swing/RH.csv\n",
      "Updated file: ./cycle-1/Right Swing/RK.csv\n",
      "Updated file: ./cycle-1/Right Swing/RA.csv\n",
      "Updated file: ./cycle-1/Left Swing/LK.csv\n",
      "Updated file: ./cycle-1/Left Swing/LH.csv\n",
      "Updated file: ./cycle-1/Left Swing/LA.csv\n",
      "Updated file: ./cycle-1/Right Stance/RH.csv\n",
      "Updated file: ./cycle-1/Right Stance/RK.csv\n",
      "Updated file: ./cycle-1/Right Stance/RA.csv\n",
      "Updated file: ./cycle-3/Left Stance/LK.csv\n",
      "Updated file: ./cycle-3/Left Stance/LH.csv\n",
      "Updated file: ./cycle-3/Left Stance/LA.csv\n",
      "Updated file: ./cycle-3/Right Swing/RH.csv\n",
      "Updated file: ./cycle-3/Right Swing/RK.csv\n",
      "Updated file: ./cycle-3/Right Swing/RA.csv\n",
      "Updated file: ./cycle-3/Left Swing/LK.csv\n",
      "Updated file: ./cycle-3/Left Swing/LH.csv\n",
      "Updated file: ./cycle-3/Left Swing/LA.csv\n",
      "Updated file: ./cycle-3/Right Stance/RH.csv\n",
      "Updated file: ./cycle-3/Right Stance/RK.csv\n",
      "Updated file: ./cycle-3/Right Stance/RA.csv\n",
      "Updated file: ./cycle-2/Left Stance/LK.csv\n",
      "Updated file: ./cycle-2/Left Stance/LH.csv\n",
      "Updated file: ./cycle-2/Left Stance/LA.csv\n",
      "Updated file: ./cycle-2/Right Swing/RH.csv\n",
      "Updated file: ./cycle-2/Right Swing/RK.csv\n",
      "Updated file: ./cycle-2/Right Swing/RA.csv\n",
      "Updated file: ./cycle-2/Left Swing/LK.csv\n",
      "Updated file: ./cycle-2/Left Swing/LH.csv\n",
      "Updated file: ./cycle-2/Left Swing/LA.csv\n",
      "Updated file: ./cycle-2/Right Stance/RH.csv\n",
      "Updated file: ./cycle-2/Right Stance/RK.csv\n",
      "Updated file: ./cycle-2/Right Stance/RA.csv\n",
      "All files updated with headers and Time column removed.\n"
     ]
    }
   ],
   "source": [
    "for cycle in os.listdir(root_dir):\n",
    "    cycle_path = os.path.join(root_dir, cycle)\n",
    "    \n",
    "    # Check if the cycle_path is a directory (to avoid other file types)\n",
    "    if os.path.isdir(cycle_path):\n",
    "        for phase in os.listdir(cycle_path):\n",
    "            phase_path = os.path.join(cycle_path, phase)\n",
    "            \n",
    "            if os.path.isdir(phase_path):\n",
    "                for csv_file in os.listdir(phase_path):\n",
    "                    if csv_file.endswith('.csv'):\n",
    "                        file_path = os.path.join(phase_path, csv_file)\n",
    "                        \n",
    "                        # Read the csv file\n",
    "                        df = pd.read_csv(file_path, header=None)\n",
    "                        \n",
    "                        # Add the header with column names\n",
    "                        df.columns = column_names\n",
    "                        \n",
    "                        # Drop the 'Time (s)' column\n",
    "                        df = df.drop(columns=['Time (s)'])\n",
    "                        \n",
    "                        # Save the file back to csv without the Time column\n",
    "                        df.to_csv(file_path, index=False)\n",
    "                        \n",
    "                        print(f\"Updated file: {file_path}\")\n",
    "\n",
    "print(\"All files updated with headers and Time column removed.\")\n"
   ]
  },
  {
   "cell_type": "code",
   "execution_count": null,
   "metadata": {},
   "outputs": [],
   "source": []
  }
 ],
 "metadata": {
  "kernelspec": {
   "display_name": "base",
   "language": "python",
   "name": "python3"
  },
  "language_info": {
   "codemirror_mode": {
    "name": "ipython",
    "version": 3
   },
   "file_extension": ".py",
   "mimetype": "text/x-python",
   "name": "python",
   "nbconvert_exporter": "python",
   "pygments_lexer": "ipython3",
   "version": "3.9.13"
  }
 },
 "nbformat": 4,
 "nbformat_minor": 2
}
