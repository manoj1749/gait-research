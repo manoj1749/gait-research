{
 "cells": [
  {
   "cell_type": "code",
   "execution_count": null,
   "metadata": {},
   "outputs": [],
   "source": [
    "import os\n",
    "import pandas as pd\n",
    "\n",
    "# Sensor ID to label mapping\n",
    "sensor_map = {\n",
    "    1: \"LT\",  # Left Thigh\n",
    "    2: \"RT\",  # Right Thigh\n",
    "    3: \"LS\",  # Left Shank\n",
    "    4: \"RS\",  # Right Shank\n",
    "    5: \"LA\",  # Left Ankle\n",
    "    6: \"RA\",  # Right Ankle\n",
    "}\n",
    "\n",
    "# Desired output column order\n",
    "column_order = [\"RS\", \"RA\", \"RT\", \"LT\", \"LA\", \"LS\"]\n",
    "\n",
    "# Input and output paths\n",
    "input_folder = \"../Dataset/Test_15-3-2025/IMU\"\n",
    "output_folder = \"../Dataset/fast_pace\"\n",
    "\n",
    "# Ensure output folder exists\n",
    "os.makedirs(output_folder, exist_ok=True)\n",
    "\n",
    "# Process each CSV file\n",
    "for file in os.listdir(input_folder):\n",
    "    if file.endswith(\".csv\"):\n",
    "        file_path = os.path.join(input_folder, file)\n",
    "        df = pd.read_csv(file_path)\n",
    "\n",
    "        sensor_dfs = {}\n",
    "\n",
    "        # For each sensor, filter and rename the columns (drop Time)\n",
    "        for sensor_id, label in sensor_map.items():\n",
    "            sensor_df = df[df[\"SensorID\"] == sensor_id].copy()\n",
    "            sensor_df = sensor_df.drop(columns=[\"SensorID\", \"Time(ms)\"])\n",
    "            sensor_df.columns = [f\"{label}_{col}\" for col in sensor_df.columns]\n",
    "            sensor_df.reset_index(drop=True, inplace=True)\n",
    "            sensor_dfs[label] = sensor_df\n",
    "\n",
    "        # Concatenate side by side by index\n",
    "        combined_df = pd.concat([sensor_dfs[label] for label in column_order], axis=1)\n",
    "\n",
    "        # Save the final output\n",
    "        output_file = os.path.join(output_folder, file.replace(\".csv\", \".csv\"))\n",
    "        combined_df.to_csv(output_file, index=False)\n",
    "        print(f\"Converted: {file} -> {output_file}\")\n"
   ]
  },
  {
   "cell_type": "code",
   "execution_count": 9,
   "metadata": {},
   "outputs": [
    {
     "name": "stdout",
     "output_type": "stream",
     "text": [
      "Converted: ../Dataset/Test_variant_with_force_sensor/test_slow_pace/test8c.csv -> ../Dataset/slow_pace/test8c.csv\n"
     ]
    }
   ],
   "source": [
    "import os\n",
    "import pandas as pd\n",
    "\n",
    "# Sensor ID to label mapping\n",
    "sensor_map = {\n",
    "    1: \"LT\",  # Left Thigh\n",
    "    2: \"RT\",  # Right Thigh\n",
    "    3: \"LS\",  # Left Shank\n",
    "    4: \"RS\",  # Right Shank\n",
    "    5: \"LA\",  # Left Ankle\n",
    "    6: \"RA\",  # Right Ankle\n",
    "}\n",
    "\n",
    "# Desired output column order\n",
    "column_order = [\"RS\", \"RA\", \"RT\", \"LT\", \"LA\", \"LS\"]\n",
    "\n",
    "# Input and output paths\n",
    "input_file = \"../Dataset/Test_variant_with_force_sensor/test_slow_pace/test8c.csv\"\n",
    "output_folder = \"../Dataset/slow_pace\"\n",
    "\n",
    "# Ensure output folder exists\n",
    "os.makedirs(output_folder, exist_ok=True)\n",
    "\n",
    "# Load the CSV file\n",
    "df = pd.read_csv(input_file)\n",
    "\n",
    "sensor_dfs = {}\n",
    "\n",
    "# For each sensor, filter and rename the columns (drop Time)\n",
    "for sensor_id, label in sensor_map.items():\n",
    "    sensor_df = df[df[\"SensorID\"] == sensor_id].copy()\n",
    "    sensor_df = sensor_df.drop(columns=[\"SensorID\", \"Time(ms)\"])\n",
    "    sensor_df.columns = [f\"{label}_{col}\" for col in sensor_df.columns]\n",
    "    sensor_df.reset_index(drop=True, inplace=True)\n",
    "    sensor_dfs[label] = sensor_df\n",
    "\n",
    "# Concatenate side by side by index\n",
    "combined_df = pd.concat([sensor_dfs[label] for label in column_order], axis=1)\n",
    "\n",
    "# Save the final output\n",
    "output_filename = os.path.basename(input_file).replace(\".csv\", \".csv\")  # Keep same name\n",
    "output_path = os.path.join(output_folder, output_filename)\n",
    "combined_df.to_csv(output_path, index=False)\n",
    "print(f\"Converted: {input_file} -> {output_path}\")\n"
   ]
  },
  {
   "cell_type": "code",
   "execution_count": null,
   "metadata": {},
   "outputs": [],
   "source": []
  }
 ],
 "metadata": {
  "kernelspec": {
   "display_name": "Python 3",
   "language": "python",
   "name": "python3"
  },
  "language_info": {
   "codemirror_mode": {
    "name": "ipython",
    "version": 3
   },
   "file_extension": ".py",
   "mimetype": "text/x-python",
   "name": "python",
   "nbconvert_exporter": "python",
   "pygments_lexer": "ipython3",
   "version": "3.13.2"
  }
 },
 "nbformat": 4,
 "nbformat_minor": 2
}
