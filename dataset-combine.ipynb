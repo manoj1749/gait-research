{
 "cells": [
  {
   "cell_type": "code",
   "execution_count": 1,
   "id": "1c6352ed",
   "metadata": {},
   "outputs": [],
   "source": [
    "import pandas as pd\n",
    "import scipy.signal as signal\n",
    "import numpy as np"
   ]
  },
  {
   "cell_type": "code",
   "execution_count": 2,
   "id": "9215caf4",
   "metadata": {},
   "outputs": [],
   "source": [
    "# -------------------------\n",
    "# SensorID to Body Part Map\n",
    "# -------------------------\n",
    "SENSOR_MAP = {\n",
    "    1: \"LT\",\n",
    "    2: \"RT\",\n",
    "    3: \"LS\",\n",
    "    4: \"RS\",\n",
    "    5: \"LA\",\n",
    "    6: \"RA\"\n",
    "}"
   ]
  },
  {
   "cell_type": "code",
   "execution_count": 3,
   "id": "7bbba97a",
   "metadata": {},
   "outputs": [],
   "source": [
    "# -------------------------\n",
    "# Load IMU data\n",
    "# -------------------------\n",
    "imu_df = pd.read_csv(\"dataset with force/Test_13-3-2025/Specimen_1/IMU/test1.csv\")  # path to your combined IMU file\n",
    "imu_df = imu_df.sort_values(\"Time(ms)\").reset_index(drop=True)\n"
   ]
  },
  {
   "cell_type": "code",
   "execution_count": 4,
   "id": "8b074d04",
   "metadata": {},
   "outputs": [],
   "source": [
    "# Pivot to wide format for each body part\n",
    "imu_wide = {}\n",
    "for sensor_id, label in SENSOR_MAP.items():\n",
    "    df_part = imu_df[imu_df[\"SensorID\"] == sensor_id].copy()\n",
    "    df_part = df_part.rename(columns={\n",
    "        \"AccelX\": f\"{label}_AccelX\",\n",
    "        \"AccelY\": f\"{label}_AccelY\",\n",
    "        \"AccelZ\": f\"{label}_AccelZ\",\n",
    "        \"GyroX\": f\"{label}_GyroX\",\n",
    "        \"GyroY\": f\"{label}_GyroY\",\n",
    "        \"GyroZ\": f\"{label}_GyroZ\",\n",
    "        \"Time(ms)\": \"Time\"\n",
    "    })\n",
    "    df_part = df_part.drop(columns=[\"SensorID\"])\n",
    "    imu_wide[label] = df_part"
   ]
  },
  {
   "cell_type": "code",
   "execution_count": 5,
   "id": "f851ca60",
   "metadata": {},
   "outputs": [],
   "source": [
    "# Merge all body part IMU data on time\n",
    "combined_imu = imu_wide[\"RS\"]\n",
    "for part in [\"RA\", \"RT\", \"LT\", \"LA\", \"LS\"]:\n",
    "    combined_imu = pd.merge_asof(combined_imu, imu_wide[part], on=\"Time\", direction=\"nearest\")\n"
   ]
  },
  {
   "cell_type": "code",
   "execution_count": 6,
   "id": "a43f4e53",
   "metadata": {},
   "outputs": [],
   "source": [
    "# -------------------------\n",
    "# Load Force Sensor Data\n",
    "# -------------------------\n",
    "left_force = pd.read_csv(\"dataset with force/Test_13-3-2025/Specimen_1/Left_Force/test1.csv\")   # path to left force sensor\n",
    "right_force = pd.read_csv(\"dataset with force/Test_13-3-2025/Specimen_1/Right_Force/test1.csv\") # path to right force sensor\n"
   ]
  },
  {
   "cell_type": "code",
   "execution_count": 7,
   "id": "eedd0abc",
   "metadata": {},
   "outputs": [],
   "source": [
    "# Resample to match combined_imu length\n",
    "def resample_force(force_df, target_len):\n",
    "    force = force_df.sort_values(\"Time(ms)\")[\"ForceValue\"].values\n",
    "    return signal.resample(force, target_len)\n",
    "\n",
    "combined_imu[\"Left_Force\"] = resample_force(left_force, len(combined_imu))\n",
    "combined_imu[\"Right_Force\"] = resample_force(right_force, len(combined_imu))"
   ]
  },
  {
   "cell_type": "code",
   "execution_count": 8,
   "id": "730d4d33",
   "metadata": {},
   "outputs": [
    {
     "name": "stdout",
     "output_type": "stream",
     "text": [
      "Saved combined_dataset.csv\n"
     ]
    }
   ],
   "source": [
    "# -------------------------\n",
    "# Final Output\n",
    "# -------------------------\n",
    "combined_imu.to_csv(\"combined_dataset.csv\", index=False)\n",
    "print(\"Saved combined_dataset.csv\")\n"
   ]
  },
  {
   "cell_type": "code",
   "execution_count": null,
   "id": "1df0c7a9",
   "metadata": {},
   "outputs": [],
   "source": []
  }
 ],
 "metadata": {
  "kernelspec": {
   "display_name": "Python 3",
   "language": "python",
   "name": "python3"
  },
  "language_info": {
   "codemirror_mode": {
    "name": "ipython",
    "version": 3
   },
   "file_extension": ".py",
   "mimetype": "text/x-python",
   "name": "python",
   "nbconvert_exporter": "python",
   "pygments_lexer": "ipython3",
   "version": "3.13.2"
  }
 },
 "nbformat": 4,
 "nbformat_minor": 5
}
