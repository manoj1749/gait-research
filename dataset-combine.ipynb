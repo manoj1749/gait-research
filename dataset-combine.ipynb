{
 "cells": [
  {
   "cell_type": "code",
   "execution_count": 4,
   "id": "1c6352ed",
   "metadata": {},
   "outputs": [],
   "source": [
    "import pandas as pd\n",
    "import scipy.signal as signal\n",
    "import numpy as np\n",
    "import os"
   ]
  },
  {
   "cell_type": "code",
   "execution_count": 5,
   "id": "9215caf4",
   "metadata": {},
   "outputs": [],
   "source": [
    "# -------------------------\n",
    "# SensorID to Body Part Map\n",
    "# -------------------------\n",
    "SENSOR_MAP = {\n",
    "    1: \"LT\",\n",
    "    2: \"RT\",\n",
    "    3: \"LS\",\n",
    "    4: \"RS\",\n",
    "    5: \"LA\",\n",
    "    6: \"RA\"\n",
    "}"
   ]
  },
  {
   "cell_type": "code",
   "execution_count": 6,
   "id": "7bbba97a",
   "metadata": {},
   "outputs": [],
   "source": [
    "# # -------------------------\n",
    "# # Load IMU data\n",
    "# # -------------------------\n",
    "# imu_df = pd.read_csv(\"dataset with force/Test_13-3-2025/Specimen_1/IMU/test1.csv\")  # path to your combined IMU file\n",
    "# imu_df = imu_df.sort_values(\"Time(ms)\").reset_index(drop=True)\n",
    "\n",
    "base_path = \"dataset with force/Test_13-3-2025/Specimen_1\"\n",
    "imu_path = os.path.join(base_path, \"IMU\")\n",
    "left_force_path = os.path.join(base_path, \"Left_Force\")\n",
    "right_force_path = os.path.join(base_path, \"Right_Force\")"
   ]
  },
  {
   "cell_type": "code",
   "execution_count": 7,
   "id": "4e1785c3",
   "metadata": {},
   "outputs": [],
   "source": [
    "# Resample function\n",
    "def resample_force(force_df, target_len):\n",
    "    force = force_df.sort_values(\"Time(ms)\")[\"ForceValue\"].values\n",
    "    return signal.resample(force, target_len)\n",
    "\n",
    "# Get list of all test files (assuming all folders have same filenames)\n",
    "test_files = sorted([f for f in os.listdir(imu_path) if f.endswith(\".csv\")])\n"
   ]
  },
  {
   "cell_type": "code",
   "execution_count": 8,
   "id": "46cd68a8",
   "metadata": {},
   "outputs": [
    {
     "name": "stdout",
     "output_type": "stream",
     "text": [
      "['test1.csv', 'test10.csv', 'test2.csv', 'test3.csv', 'test4.csv', 'test5.csv', 'test6.csv', 'test7.csv', 'test8.csv', 'test9.csv']\n"
     ]
    }
   ],
   "source": [
    "print(test_files)"
   ]
  },
  {
   "cell_type": "code",
   "execution_count": 9,
   "id": "54c2d427",
   "metadata": {},
   "outputs": [
    {
     "name": "stdout",
     "output_type": "stream",
     "text": [
      "Processing test1...\n",
      "Saved dataset with force/Test_13-3-2025/Specimen_1/combined_dataset_test1.csv\n",
      "Processing test10...\n",
      "Saved dataset with force/Test_13-3-2025/Specimen_1/combined_dataset_test10.csv\n",
      "Processing test2...\n",
      "Saved dataset with force/Test_13-3-2025/Specimen_1/combined_dataset_test2.csv\n",
      "Processing test3...\n",
      "Saved dataset with force/Test_13-3-2025/Specimen_1/combined_dataset_test3.csv\n",
      "Processing test4...\n",
      "Saved dataset with force/Test_13-3-2025/Specimen_1/combined_dataset_test4.csv\n",
      "Processing test5...\n",
      "Saved dataset with force/Test_13-3-2025/Specimen_1/combined_dataset_test5.csv\n",
      "Processing test6...\n",
      "Saved dataset with force/Test_13-3-2025/Specimen_1/combined_dataset_test6.csv\n",
      "Processing test7...\n",
      "Saved dataset with force/Test_13-3-2025/Specimen_1/combined_dataset_test7.csv\n",
      "Processing test8...\n",
      "Saved dataset with force/Test_13-3-2025/Specimen_1/combined_dataset_test8.csv\n",
      "Processing test9...\n",
      "Saved dataset with force/Test_13-3-2025/Specimen_1/combined_dataset_test9.csv\n"
     ]
    }
   ],
   "source": [
    "for test_file in test_files:\n",
    "    test_name = test_file.split(\".csv\")[0]\n",
    "    print(f\"Processing {test_name}...\")\n",
    "\n",
    "    # Load IMU data\n",
    "    imu_df = pd.read_csv(os.path.join(imu_path, test_file))\n",
    "    imu_df = imu_df.sort_values(\"Time(ms)\").reset_index(drop=True)\n",
    "\n",
    "    # Pivot IMU to wide format\n",
    "    imu_wide = {}\n",
    "    for sensor_id, label in SENSOR_MAP.items():\n",
    "        df_part = imu_df[imu_df[\"SensorID\"] == sensor_id].copy()\n",
    "        df_part = df_part.rename(columns={\n",
    "            \"AccelX\": f\"{label}_AccelX\",\n",
    "            \"AccelY\": f\"{label}_AccelY\",\n",
    "            \"AccelZ\": f\"{label}_AccelZ\",\n",
    "            \"GyroX\": f\"{label}_GyroX\",\n",
    "            \"GyroY\": f\"{label}_GyroY\",\n",
    "            \"GyroZ\": f\"{label}_GyroZ\",\n",
    "            \"Time(ms)\": \"Time\"\n",
    "        })\n",
    "        df_part = df_part.drop(columns=[\"SensorID\"])\n",
    "        imu_wide[label] = df_part\n",
    "\n",
    "    # Merge all sensors by time\n",
    "    combined_imu = imu_wide[\"RS\"]\n",
    "    for part in [\"RA\", \"RT\", \"LT\", \"LA\", \"LS\"]:\n",
    "        combined_imu = pd.merge_asof(combined_imu, imu_wide[part], on=\"Time\", direction=\"nearest\")\n",
    "\n",
    "    # Load force data\n",
    "    left_force = pd.read_csv(os.path.join(left_force_path, test_file))\n",
    "    right_force = pd.read_csv(os.path.join(right_force_path, test_file))\n",
    "\n",
    "    # Add force data to IMU dataframe\n",
    "    combined_imu[\"Left_Force\"] = resample_force(left_force, len(combined_imu))\n",
    "    combined_imu[\"Right_Force\"] = resample_force(right_force, len(combined_imu))\n",
    "\n",
    "    # Save combined file\n",
    "    out_path = os.path.join(base_path, f\"combined_dataset_{test_name}.csv\")\n",
    "    combined_imu.to_csv(out_path, index=False)\n",
    "    print(f\"Saved {out_path}\")"
   ]
  },
  {
   "cell_type": "code",
   "execution_count": null,
   "id": "8b074d04",
   "metadata": {},
   "outputs": [],
   "source": [
    "# # Pivot to wide format for each body part\n",
    "# imu_wide = {}\n",
    "# for sensor_id, label in SENSOR_MAP.items():\n",
    "#     df_part = imu_df[imu_df[\"SensorID\"] == sensor_id].copy()\n",
    "#     df_part = df_part.rename(columns={\n",
    "#         \"AccelX\": f\"{label}_AccelX\",\n",
    "#         \"AccelY\": f\"{label}_AccelY\",\n",
    "#         \"AccelZ\": f\"{label}_AccelZ\",\n",
    "#         \"GyroX\": f\"{label}_GyroX\",\n",
    "#         \"GyroY\": f\"{label}_GyroY\",\n",
    "#         \"GyroZ\": f\"{label}_GyroZ\",\n",
    "#         \"Time(ms)\": \"Time\"\n",
    "#     })\n",
    "#     df_part = df_part.drop(columns=[\"SensorID\"])\n",
    "#     imu_wide[label] = df_part"
   ]
  },
  {
   "cell_type": "code",
   "execution_count": null,
   "id": "f851ca60",
   "metadata": {},
   "outputs": [],
   "source": [
    "# # Merge all body part IMU data on time\n",
    "# combined_imu = imu_wide[\"RS\"]\n",
    "# for part in [\"RA\", \"RT\", \"LT\", \"LA\", \"LS\"]:\n",
    "#     combined_imu = pd.merge_asof(combined_imu, imu_wide[part], on=\"Time\", direction=\"nearest\")\n"
   ]
  },
  {
   "cell_type": "code",
   "execution_count": null,
   "id": "a43f4e53",
   "metadata": {},
   "outputs": [],
   "source": [
    "# # -------------------------\n",
    "# # Load Force Sensor Data\n",
    "# # -------------------------\n",
    "# left_force = pd.read_csv(\"dataset with force/Test_13-3-2025/Specimen_1/Left_Force/test1.csv\")   # path to left force sensor\n",
    "# right_force = pd.read_csv(\"dataset with force/Test_13-3-2025/Specimen_1/Right_Force/test1.csv\") # path to right force sensor\n"
   ]
  },
  {
   "cell_type": "code",
   "execution_count": null,
   "id": "eedd0abc",
   "metadata": {},
   "outputs": [],
   "source": [
    "# # Resample to match combined_imu length\n",
    "# def resample_force(force_df, target_len):\n",
    "#     force = force_df.sort_values(\"Time(ms)\")[\"ForceValue\"].values\n",
    "#     return signal.resample(force, target_len)\n",
    "\n",
    "# combined_imu[\"Left_Force\"] = resample_force(left_force, len(combined_imu))\n",
    "# combined_imu[\"Right_Force\"] = resample_force(right_force, len(combined_imu))"
   ]
  },
  {
   "cell_type": "code",
   "execution_count": null,
   "id": "730d4d33",
   "metadata": {},
   "outputs": [
    {
     "name": "stdout",
     "output_type": "stream",
     "text": [
      "Saved combined_dataset.csv\n"
     ]
    }
   ],
   "source": [
    "# # -------------------------\n",
    "# # Final Output\n",
    "# # -------------------------\n",
    "# combined_imu.to_csv(\"combined_dataset.csv\", index=False)\n",
    "# print(\"Saved combined_dataset.csv\")\n"
   ]
  },
  {
   "cell_type": "code",
   "execution_count": null,
   "id": "1df0c7a9",
   "metadata": {},
   "outputs": [],
   "source": []
  }
 ],
 "metadata": {
  "kernelspec": {
   "display_name": "Python 3",
   "language": "python",
   "name": "python3"
  },
  "language_info": {
   "codemirror_mode": {
    "name": "ipython",
    "version": 3
   },
   "file_extension": ".py",
   "mimetype": "text/x-python",
   "name": "python",
   "nbconvert_exporter": "python",
   "pygments_lexer": "ipython3",
   "version": "3.13.2"
  }
 },
 "nbformat": 4,
 "nbformat_minor": 5
}
