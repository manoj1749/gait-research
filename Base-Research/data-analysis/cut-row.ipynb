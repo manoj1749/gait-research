{
 "cells": [
  {
   "cell_type": "code",
   "execution_count": 1,
   "metadata": {},
   "outputs": [],
   "source": [
    "import pandas as pd\n",
    "import os"
   ]
  },
  {
   "cell_type": "code",
   "execution_count": 2,
   "metadata": {},
   "outputs": [],
   "source": [
    "def clean_csv_files(directory_path, output_directory):\n",
    "    # Create the output directory if it doesn't exist\n",
    "    os.makedirs(output_directory, exist_ok=True)\n",
    "\n",
    "    # Loop through all CSV files in the directory\n",
    "    for filename in os.listdir(directory_path):\n",
    "        if filename.endswith(\".csv\"):\n",
    "            file_path = os.path.join(directory_path, filename)\n",
    "\n",
    "            # Load the CSV file\n",
    "            df = pd.read_csv(file_path)\n",
    "\n",
    "            # Find the index of the first row with any missing value\n",
    "            first_missing_index = df[df.isnull().any(axis=1)].index.min()\n",
    "\n",
    "            if pd.notna(first_missing_index):\n",
    "                # Keep only the rows before the first missing value\n",
    "                df_cleaned = df.iloc[:first_missing_index]\n",
    "            else:\n",
    "                # If no missing values are found, retain the entire DataFrame\n",
    "                df_cleaned = df\n",
    "\n",
    "            # Save the cleaned DataFrame to the output directory\n",
    "            output_path = os.path.join(output_directory, filename)\n",
    "            df_cleaned.to_csv(output_path, index=False)\n",
    "\n",
    "            print(f\"Processed and saved: {filename}\")"
   ]
  },
  {
   "cell_type": "code",
   "execution_count": 3,
   "metadata": {},
   "outputs": [
    {
     "name": "stdout",
     "output_type": "stream",
     "text": [
      "Processed and saved: Vinayak.csv\n",
      "Processed and saved: Ashna.csv\n",
      "Processed and saved: Gaavya.csv\n",
      "Processed and saved: Vishnu.csv\n",
      "Processed and saved: Ragesh.csv\n",
      "Processed and saved: Krishnanand.csv\n",
      "Processed and saved: Abhay.csv\n",
      "Processed and saved: SreeMegha.csv\n",
      "Processed and saved: Abhijith.csv\n",
      "Processed and saved: Kavya.csv\n"
     ]
    }
   ],
   "source": [
    "\n",
    "# Example usage\n",
    "directory_path = \"Final_Dataset_Concatenated\"  # Replace with the directory of your CSV files\n",
    "output_directory = \"Final_Dataset_Cut\"  # Replace with the desired output directory\n",
    "\n",
    "clean_csv_files(directory_path, output_directory)"
   ]
  },
  {
   "cell_type": "code",
   "execution_count": 1,
   "metadata": {},
   "outputs": [],
   "source": [
    "import pandas as pd"
   ]
  },
  {
   "cell_type": "code",
   "execution_count": 2,
   "metadata": {},
   "outputs": [
    {
     "name": "stdout",
     "output_type": "stream",
     "text": [
      "Total NaN values in the dataset: 0\n"
     ]
    }
   ],
   "source": [
    "# Load the dataset\n",
    "df = pd.read_csv('Final_Dataset_Cut/Abhay.csv')\n",
    "nan_counts = df.isna().sum().sum()\n",
    "print(f'Total NaN values in the dataset: {nan_counts}')"
   ]
  },
  {
   "cell_type": "code",
   "execution_count": 3,
   "metadata": {},
   "outputs": [
    {
     "name": "stdout",
     "output_type": "stream",
     "text": [
      "(5411, 36)\n"
     ]
    }
   ],
   "source": [
    "print(df.shape)"
   ]
  },
  {
   "cell_type": "code",
   "execution_count": null,
   "metadata": {},
   "outputs": [],
   "source": []
  }
 ],
 "metadata": {
  "kernelspec": {
   "display_name": "base",
   "language": "python",
   "name": "python3"
  },
  "language_info": {
   "codemirror_mode": {
    "name": "ipython",
    "version": 3
   },
   "file_extension": ".py",
   "mimetype": "text/x-python",
   "name": "python",
   "nbconvert_exporter": "python",
   "pygments_lexer": "ipython3",
   "version": "3.9.13"
  }
 },
 "nbformat": 4,
 "nbformat_minor": 2
}
