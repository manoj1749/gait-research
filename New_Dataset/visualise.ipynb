{
 "cells": [
  {
   "cell_type": "code",
   "execution_count": null,
   "metadata": {},
   "outputs": [],
   "source": [
    "# import numpy as np\n",
    "# import pandas as pd\n",
    "# import matplotlib.pyplot as plt\n",
    "# import matplotlib.animation as animation"
   ]
  },
  {
   "cell_type": "code",
   "execution_count": null,
   "metadata": {},
   "outputs": [],
   "source": [
    "# # Load the dataset\n",
    "# file_path = \"./dataset_final/patient1/test5.csv\"  # Replace with your file path\n",
    "# df = pd.read_csv(file_path)\n",
    "\n",
    "# # Define segment lengths (assumed average human proportions in meters)\n",
    "# thigh_length = 0.4  # Length from hip to knee\n",
    "# shank_length = 0.4  # Length from knee to ankle\n",
    "\n",
    "# # Convert gyroscope data to radians (assuming small angle approximation for integration)\n",
    "# deg_to_rad = np.pi / 180.0\n",
    "\n",
    "# # Extract relevant gyroscope data for thigh and shank (Right and Left)\n",
    "# gyro_rt = df[\"RT_GyroY\"].values * deg_to_rad  # Right Thigh (rotation around Y-axis)\n",
    "# gyro_rs = df[\"RS_GyroY\"].values * deg_to_rad  # Right Shank\n",
    "# gyro_lt = df[\"LT_GyroY\"].values * deg_to_rad  # Left Thigh\n",
    "# gyro_ls = df[\"LS_GyroY\"].values * deg_to_rad  # Left Shank\n",
    "\n",
    "# # Integrate gyroscope data to get estimated angles (assuming constant time step)\n",
    "# theta_rt = np.cumsum(gyro_rt)  # Right thigh angle\n",
    "# theta_rs = np.cumsum(gyro_rs)  # Right shank angle\n",
    "# theta_lt = np.cumsum(gyro_lt)  # Left thigh angle\n",
    "# theta_ls = np.cumsum(gyro_ls)  # Left shank angle\n",
    "\n",
    "# # Define function to update stick figure in animation\n",
    "# def update(frame):\n",
    "#     ax.clear()\n",
    "#     ax.set_xlim(-1, 1)\n",
    "#     ax.set_ylim(-1, 1)\n",
    "#     ax.set_title(\"2D Gait Cycle Animation\")\n",
    "#     ax.set_xlabel(\"X position (m)\")\n",
    "#     ax.set_ylabel(\"Y position (m)\")\n",
    "\n",
    "#     # Compute joint positions for right leg\n",
    "#     hip = np.array([0.2, 0.8])  # Fixed reference point (right hip)\n",
    "#     knee_r = hip + thigh_length * np.array([np.sin(theta_rt[frame]), -np.cos(theta_rt[frame])])\n",
    "#     ankle_r = knee_r + shank_length * np.array([np.sin(theta_rs[frame] + theta_rt[frame]), -np.cos(theta_rs[frame] + theta_rt[frame])])\n",
    "\n",
    "#     # Compute joint positions for left leg\n",
    "#     hip_l = np.array([-0.2, 0.8])  # Fixed reference point (left hip)\n",
    "#     knee_l = hip_l + thigh_length * np.array([np.sin(theta_lt[frame]), -np.cos(theta_lt[frame])])\n",
    "#     ankle_l = knee_l + shank_length * np.array([np.sin(theta_ls[frame] + theta_lt[frame]), -np.cos(theta_ls[frame] + theta_lt[frame])])\n",
    "\n",
    "#     # Plot right leg\n",
    "#     ax.plot([hip[0], knee_r[0]], [hip[1], knee_r[1]], 'ro-', label=\"Right Thigh\")\n",
    "#     ax.plot([knee_r[0], ankle_r[0]], [knee_r[1], ankle_r[1]], 'bo-', label=\"Right Shank\")\n",
    "\n",
    "#     # Plot left leg\n",
    "#     ax.plot([hip_l[0], knee_l[0]], [hip_l[1], knee_l[1]], 'ro-')\n",
    "#     ax.plot([knee_l[0], ankle_l[0]], [knee_l[1], ankle_l[1]], 'bo-')\n",
    "\n",
    "#     ax.legend(loc=\"upper right\")\n",
    "\n",
    "# # Create figure and animation\n",
    "# fig, ax = plt.subplots(figsize=(5, 5))\n",
    "# ani = animation.FuncAnimation(fig, update, frames=len(df), interval=50)\n",
    "\n",
    "# # Save animation as GIF\n",
    "# ani.save(\"gait_animation.gif\", writer=\"pillow\", fps=30)\n",
    "# print('here')\n",
    "# # Show the animation\n",
    "# plt.show()\n"
   ]
  },
  {
   "cell_type": "code",
   "execution_count": 1,
   "metadata": {},
   "outputs": [
    {
     "ename": "ModuleNotFoundError",
     "evalue": "No module named 'gaitmap.utils.coordinate_transforms'",
     "output_type": "error",
     "traceback": [
      "\u001b[0;31m---------------------------------------------------------------------------\u001b[0m",
      "\u001b[0;31mModuleNotFoundError\u001b[0m                       Traceback (most recent call last)",
      "Cell \u001b[0;32mIn[1], line 3\u001b[0m\n\u001b[1;32m      1\u001b[0m \u001b[38;5;28;01mimport\u001b[39;00m \u001b[38;5;21;01mpandas\u001b[39;00m \u001b[38;5;28;01mas\u001b[39;00m \u001b[38;5;21;01mpd\u001b[39;00m\n\u001b[1;32m      2\u001b[0m \u001b[38;5;28;01mimport\u001b[39;00m \u001b[38;5;21;01mnumpy\u001b[39;00m \u001b[38;5;28;01mas\u001b[39;00m \u001b[38;5;21;01mnp\u001b[39;00m\n\u001b[0;32m----> 3\u001b[0m \u001b[38;5;28;01mfrom\u001b[39;00m \u001b[38;5;21;01mgaitmap\u001b[39;00m\u001b[38;5;21;01m.\u001b[39;00m\u001b[38;5;21;01mutils\u001b[39;00m\u001b[38;5;21;01m.\u001b[39;00m\u001b[38;5;21;01mcoordinate_transforms\u001b[39;00m \u001b[38;5;28;01mimport\u001b[39;00m convert_to_standard\n\u001b[1;32m      5\u001b[0m \u001b[38;5;66;03m# Load your dataset\u001b[39;00m\n\u001b[1;32m      6\u001b[0m file_path \u001b[38;5;241m=\u001b[39m \u001b[38;5;124m\"\u001b[39m\u001b[38;5;124m./dataset_final/patient1/test5.csv\u001b[39m\u001b[38;5;124m\"\u001b[39m\n",
      "\u001b[0;31mModuleNotFoundError\u001b[0m: No module named 'gaitmap.utils.coordinate_transforms'"
     ]
    }
   ],
   "source": [
    "import pandas as pd\n",
    "import numpy as np\n",
    "from gaitmap.utils.coordinate_transforms import convert_to_standard\n",
    "\n",
    "# Load your dataset\n",
    "file_path = \"./dataset_final/patient1/test5.csv\"\n",
    "df = pd.read_csv(file_path)\n",
    "\n",
    "# Select IMU data (Gyroscope & Accelerometer) for right ankle as an example\n",
    "imu_data = {\n",
    "    \"right_ankle\": {\n",
    "        \"acc\": df[[\"RA_AccelX\", \"RA_AccelY\", \"RA_AccelZ\"]].values,\n",
    "        \"gyro\": df[[\"RA_GyroX\", \"RA_GyroY\", \"RA_GyroZ\"]].values,\n",
    "    },\n",
    "    \"left_ankle\": {\n",
    "        \"acc\": df[[\"LA_AccelX\", \"LA_AccelY\", \"LA_AccelZ\"]].values,\n",
    "        \"gyro\": df[[\"LA_GyroX\", \"LA_GyroY\", \"LA_GyroZ\"]].values,\n",
    "    }\n",
    "}\n",
    "\n",
    "# Convert to standard IMU format for GaitMap processing\n",
    "imu_data = convert_to_standard(imu_data)\n"
   ]
  },
  {
   "cell_type": "code",
   "execution_count": null,
   "metadata": {},
   "outputs": [],
   "source": [
    "from gaitmap.stride_segmentation import BarthDtw\n",
    "\n",
    "# Initialize the stride segmentation model\n",
    "stride_segmenter = BarthDtw(max_cost=2.5)\n",
    "\n",
    "# Apply segmentation to the right ankle IMU data\n",
    "stride_segmenter.segment(imu_data[\"right_ankle\"][\"gyro\"], sampling_rate_hz=100)\n",
    "\n",
    "# Extract the detected stride events\n",
    "segmented_strides = stride_segmenter.stride_list_\n",
    "print(segmented_strides)\n"
   ]
  },
  {
   "cell_type": "code",
   "execution_count": null,
   "metadata": {},
   "outputs": [],
   "source": [
    "from gaitmap.gait_features import SpatialTemporalGaitParameters\n",
    "\n",
    "# Initialize gait parameter computation\n",
    "gait_params = SpatialTemporalGaitParameters()\n",
    "\n",
    "# Compute gait parameters based on segmented strides\n",
    "results = gait_params.compute(imu_data[\"right_ankle\"], segmented_strides)\n",
    "\n",
    "# Print key gait metrics\n",
    "print(\"Step Length:\", results[\"step_length\"])\n",
    "print(\"Stride Time:\", results[\"stride_time\"])\n",
    "print(\"Walking Speed:\", results[\"walking_speed\"])\n"
   ]
  },
  {
   "cell_type": "code",
   "execution_count": null,
   "metadata": {},
   "outputs": [],
   "source": [
    "import matplotlib.pyplot as plt\n",
    "\n",
    "# Plot raw gyroscope data for one stride\n",
    "stride_idx = segmented_strides[0]  # First detected stride\n",
    "plt.plot(df.index[stride_idx[0]:stride_idx[1]], df[\"RA_GyroY\"][stride_idx[0]:stride_idx[1]])\n",
    "plt.title(\"Gyroscope Y-axis Data During Stride\")\n",
    "plt.xlabel(\"Time (samples)\")\n",
    "plt.ylabel(\"Angular Velocity (rad/s)\")\n",
    "plt.show()\n"
   ]
  },
  {
   "cell_type": "code",
   "execution_count": null,
   "metadata": {},
   "outputs": [],
   "source": [
    "from gaitmap.trajectory_estimation import FootTrajectoryEstimation\n",
    "\n",
    "# Initialize foot trajectory estimation\n",
    "trajectory_estimator = FootTrajectoryEstimation()\n",
    "\n",
    "# Compute foot trajectory based on IMU data\n",
    "foot_trajectory = trajectory_estimator.estimate_trajectory(imu_data[\"right_ankle\"])\n",
    "\n",
    "# Plot foot trajectory in 3D\n",
    "from mpl_toolkits.mplot3d import Axes3D\n",
    "\n",
    "fig = plt.figure()\n",
    "ax = fig.add_subplot(111, projection='3d')\n",
    "ax.plot(foot_trajectory[:, 0], foot_trajectory[:, 1], foot_trajectory[:, 2])\n",
    "ax.set_title(\"3D Foot Trajectory\")\n",
    "ax.set_xlabel(\"X-axis (m)\")\n",
    "ax.set_ylabel(\"Y-axis (m)\")\n",
    "ax.set_zlabel(\"Z-axis (m)\")\n",
    "plt.show()\n"
   ]
  }
 ],
 "metadata": {
  "kernelspec": {
   "display_name": "Python 3",
   "language": "python",
   "name": "python3"
  },
  "language_info": {
   "codemirror_mode": {
    "name": "ipython",
    "version": 3
   },
   "file_extension": ".py",
   "mimetype": "text/x-python",
   "name": "python",
   "nbconvert_exporter": "python",
   "pygments_lexer": "ipython3",
   "version": "3.13.1"
  }
 },
 "nbformat": 4,
 "nbformat_minor": 2
}
