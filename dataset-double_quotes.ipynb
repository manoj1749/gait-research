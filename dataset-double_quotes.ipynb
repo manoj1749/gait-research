{
 "cells": [
  {
   "cell_type": "code",
   "execution_count": 1,
   "metadata": {},
   "outputs": [],
   "source": [
    "import os"
   ]
  },
  {
   "cell_type": "code",
   "execution_count": 2,
   "metadata": {},
   "outputs": [],
   "source": [
    "# Define the root directory\n",
    "root_dir = \"Final_Dataset\""
   ]
  },
  {
   "cell_type": "code",
   "execution_count": 3,
   "metadata": {},
   "outputs": [],
   "source": [
    "# Function to remove double quotes from a file\n",
    "def remove_double_quotes(file_path):\n",
    "    with open(file_path, 'r') as file:\n",
    "        # Read the contents of the file\n",
    "        file_data = file.read()\n",
    "    \n",
    "    # Replace all double quotes with nothing\n",
    "    file_data = file_data.replace('\"', '')\n",
    "\n",
    "    # Write the modified data back to the file\n",
    "    with open(file_path, 'w') as file:\n",
    "        file.write(file_data)"
   ]
  },
  {
   "cell_type": "code",
   "execution_count": 4,
   "metadata": {},
   "outputs": [
    {
     "name": "stdout",
     "output_type": "stream",
     "text": [
      "All double quotes have been removed from the CSV files.\n"
     ]
    }
   ],
   "source": [
    "# Traverse through all the folders and files\n",
    "for subdir, _, files in os.walk(root_dir):\n",
    "    for file in files:\n",
    "        # Only process CSV files\n",
    "        if file.endswith(\".csv\"):\n",
    "            file_path = os.path.join(subdir, file)\n",
    "            remove_double_quotes(file_path)\n",
    "\n",
    "print(\"All double quotes have been removed from the CSV files.\")"
   ]
  },
  {
   "cell_type": "code",
   "execution_count": null,
   "metadata": {},
   "outputs": [],
   "source": []
  }
 ],
 "metadata": {
  "kernelspec": {
   "display_name": "base",
   "language": "python",
   "name": "python3"
  },
  "language_info": {
   "codemirror_mode": {
    "name": "ipython",
    "version": 3
   },
   "file_extension": ".py",
   "mimetype": "text/x-python",
   "name": "python",
   "nbconvert_exporter": "python",
   "pygments_lexer": "ipython3",
   "version": "3.9.13"
  }
 },
 "nbformat": 4,
 "nbformat_minor": 2
}
